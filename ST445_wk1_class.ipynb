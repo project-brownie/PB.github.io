{
 "cells": [
  {
   "cell_type": "markdown",
   "metadata": {
    "slideshow": {
     "slide_type": "slide"
    }
   },
   "source": [
    "## ST445 Managing and Visualising Data\n",
    "# Working with Jupyter Notebook and GitHub\n",
    "### Week 1 Lab, MT 2020"
   ]
  },
  {
   "cell_type": "markdown",
   "metadata": {
    "slideshow": {
     "slide_type": "slide"
    }
   },
   "source": [
    "## Plan for Today\n",
    "\n",
    "* Some Code/Suggestions for On-Campus Seminar/Class \n",
    "* Indicate your preference\n",
    "* GitHub\n",
    "* Anaconda\n",
    "* Jupyter notebook"
   ]
  },
  {
   "cell_type": "markdown",
   "metadata": {
    "slideshow": {
     "slide_type": "slide"
    }
   },
   "source": [
    "## Some Code/Suggestions for On-Campus Seminar/Class \n",
    "\n",
    "[LSE's Student Code for a COVID-Secure Campus](https://www.lse.ac.uk/international-relations/assets/documents/pdfs/Student-Code-for-a-COVID-Secure-Campus.pdf)\n",
    "\n",
    "* **Wear masks** (except if medically exempted) and keep two meters social distancing. We will ask anyone without face coverings to leave the classroom. \n",
    "* Get **tested** on LSE campus. Book a test [here](https://info.lse.ac.uk/coronavirus-response/get-tested-at-lse). \n",
    "* Please do **not** attend on-campus seminar if tested positive or experiencing COVID symptoms. \n",
    "* It is totally fine to **not** attend on-campus seminars if you are worried about COVID. We have online seminar sessions and OHs. Seminar exercises, solutions and recordings will be uploaded online."
   ]
  },
  {
   "cell_type": "markdown",
   "metadata": {
    "slideshow": {
     "slide_type": "slide"
    }
   },
   "source": [
    "## Indicate Your Preference\n",
    "\n",
    "https://docs.google.com/spreadsheets/d/1_iLGWT58hPVJFg_fqSAjI-tsetF8y6A-RtPEseDoZgA/edit?usp=sharing"
   ]
  },
  {
   "cell_type": "markdown",
   "metadata": {
    "slideshow": {
     "slide_type": "slide"
    }
   },
   "source": [
    "## Getting Started with GitHub\n",
    "\n",
    "* Create personal account on GitHub\n",
    "* Send emails to c.shi7@lse.ac.uk or F.Marotta@lse.ac.uk with your GitHub username (or email address used for registering GitHub)\n",
    "* Go to https://education.github.com/ and get the Student Developer Pack for some cool freebies"
   ]
  },
  {
   "cell_type": "markdown",
   "metadata": {
    "slideshow": {
     "slide_type": "fragment"
    }
   },
   "source": [
    "* Syllabus and lectures can be found at http://lse-st445.github.io, and the source repositories for this at http://github.com/lse-st445.\n",
    "* For better results, download/clone them and use Jupyter to view them"
   ]
  },
  {
   "cell_type": "markdown",
   "metadata": {
    "slideshow": {
     "slide_type": "fragment"
    }
   },
   "source": [
    "* E-mails with links to assignments will be sent in due course"
   ]
  },
  {
   "cell_type": "markdown",
   "metadata": {
    "slideshow": {
     "slide_type": "slide"
    }
   },
   "source": [
    "## GitHub\n",
    "\n",
    "* Code hosting platform for version control and collaboration\n",
    "* Based on Git\n",
    "  * Version control system for tracking changes in computer files and coordinating work on those files among multiple people\n",
    "  * Created in 2005 by Linus Torvalds\n",
    "* Largest host of source code in the world"
   ]
  },
  {
   "cell_type": "markdown",
   "metadata": {
    "slideshow": {
     "slide_type": "slide"
    }
   },
   "source": [
    "## GitHub Lingo\n",
    "\n",
    "* Repository – a space for a project/assignment\n",
    "* Clone – a copy of the repository that lives on your computer\n",
    "* Fork – a remote copy of a repository that you can modify\n",
    "* Branch – a parallel version of the repository\n",
    "* Commit – save changes with a short description\n",
    "* Push - send a Commit on your local branch to the remote repository\n",
    "* Pull request – ask changes to be merged\n",
    "* Merge – incorporate changes (then delete branch)"
   ]
  },
  {
   "cell_type": "markdown",
   "metadata": {
    "slideshow": {
     "slide_type": "slide"
    }
   },
   "source": [
    "![XKCD](figs/gitXKCD.png \"XKCD\")\n",
    "\n",
    "from https://xkcd.com/1597/"
   ]
  },
  {
   "cell_type": "markdown",
   "metadata": {
    "slideshow": {
     "slide_type": "slide"
    }
   },
   "source": [
    "## Anaconda\n",
    "\n",
    "* Open-source cross-platform distribution of the Python programming language\n",
    "  * *conda* – package management system\n",
    "  * *pandas*, *scikit-learn*, *nltk*, etc. – packages for data science \n",
    "  * Anaconda Navigator – graphical user interface\n",
    "  * Jupyter Notebook – web app for creating and sharing code"
   ]
  },
  {
   "cell_type": "markdown",
   "metadata": {
    "slideshow": {
     "slide_type": "slide"
    }
   },
   "source": [
    "## Installing Anaconda\n",
    "\n",
    "* Go to https://www.anaconda.com/distribution/\n",
    "* Select your OS\n",
    "* **Download Python 3.8 version** (Graphical Installer)\n",
    "* Follow instructions"
   ]
  },
  {
   "cell_type": "markdown",
   "metadata": {
    "slideshow": {
     "slide_type": "fragment"
    }
   },
   "source": [
    "* An example of installing Python packages \n",
    "* Open Terminal (Anaconda Prompt in Windows) and type:\n",
    "```\n",
    "> conda install quandl\n",
    "```\n",
    "* type y to install or update"
   ]
  },
  {
   "cell_type": "markdown",
   "metadata": {
    "slideshow": {
     "slide_type": "slide"
    }
   },
   "source": [
    "## Launching Jupyter\n",
    "\n",
    "* Launch **Anaconda Navigator** and click on Jupyter Notebook icon\n",
    "\n",
    "or \n",
    "\n",
    "* Open Terminal (Anaconda Prompt in Windows): \n",
    "\n",
    "```\n",
    "> Clone or download lectures2020 in your computer and unzip it\n",
    "> go to the notebook directory \\ST445\\Lectures2020\\Week01\\\n",
    "> type jupyter notebook\n",
    "```"
   ]
  },
  {
   "cell_type": "markdown",
   "metadata": {
    "slideshow": {
     "slide_type": "slide"
    }
   },
   "source": [
    "## Using Jupyter\n",
    "\n",
    "* New &rarr; Notebook: Python 3\n",
    "* Insert &rarr; Insert Cell Below\n",
    "* Cell &rarr; Cell Type &rarr;\n",
    "  * Markdown\n",
    "    * ST445 Managing and Visualizing Data\n",
    "    * Cheatsheets, for example: https://github.com/adam-p/markdown-here/wiki/Markdown-Cheatsheet\n",
    "  * Code"
   ]
  },
  {
   "cell_type": "markdown",
   "metadata": {
    "slideshow": {
     "slide_type": "slide"
    }
   },
   "source": [
    "## Add equations in Jupyter notebook\n",
    "\n",
    "https://jupyter-notebook.readthedocs.io/en/stable/examples/Notebook/Typesetting%20Equations.html"
   ]
  },
  {
   "cell_type": "markdown",
   "metadata": {
    "slideshow": {
     "slide_type": "slide"
    }
   },
   "source": [
    "## Latex math and equations\n",
    "\n",
    "https://www.latex-tutorial.com/tutorials/amsmath/"
   ]
  },
  {
   "cell_type": "markdown",
   "metadata": {
    "slideshow": {
     "slide_type": "slide"
    }
   },
   "source": [
    "## Exercise\n",
    "\n",
    "print the four equations as shown in EquationExercise.ipynb, be sure to allign them in a proper way"
   ]
  },
  {
   "cell_type": "markdown",
   "metadata": {
    "slideshow": {
     "slide_type": "fragment"
    }
   },
   "source": [
    "\\begin{eqnarray*}\n",
    "    \\hbox{Put your equations here}\n",
    "\\end{eqnarray*}"
   ]
  },
  {
   "cell_type": "markdown",
   "metadata": {
    "slideshow": {
     "slide_type": "slide"
    }
   },
   "source": [
    "## The `print` Function in Python"
   ]
  },
  {
   "cell_type": "code",
   "execution_count": 5,
   "metadata": {
    "slideshow": {
     "slide_type": "fragment"
    }
   },
   "outputs": [
    {
     "name": "stdout",
     "output_type": "stream",
     "text": [
      "7\n",
      "The losing number is 7 .\n",
      "The winning number is 7.\n"
     ]
    }
   ],
   "source": [
    "x = 7\n",
    "print(x)\n",
    "print('The', 'losing', 'number', 'is', x, '.')\n",
    "print('The winning number is '+ str(x) + '.')"
   ]
  },
  {
   "cell_type": "markdown",
   "metadata": {
    "slideshow": {
     "slide_type": "slide"
    }
   },
   "source": [
    "## Jupyter\n",
    "\n",
    "* Open-source web application for creating and sharing documents with:\n",
    "  * Live code\n",
    "  * Equations\n",
    "  * Visualizations\n",
    "  * Explanatory text\n",
    "* Supports more than 40 programming languages, including Python and R\n",
    "* Notebook files have *.ipynb* extension and can be easily shared, e.g. on GitHub"
   ]
  },
  {
   "cell_type": "markdown",
   "metadata": {
    "slideshow": {
     "slide_type": "slide"
    }
   },
   "source": [
    "## Using Jupyter for Slides\n",
    "\n",
    "Open you cmd or Anaconda prompt and type\n",
    "\n",
    "```\n",
    "> jupyter nbconvert ST445_wk1_class.ipynb --to slides\n",
    "```    "
   ]
  },
  {
   "cell_type": "markdown",
   "metadata": {
    "slideshow": {
     "slide_type": "slide"
    }
   },
   "source": [
    "## Shutting Down Jupyter\n",
    "\n",
    "* Do not forget to Command+S / CTRL+S !\n",
    "* Jupyter is a server and closing the browser window will not shut it down\n",
    "* To shut down:\n",
    "    * File &rarr; Close and Halt\n",
    "    * Notebook Dashboard &rarr; Quit"
   ]
  },
  {
   "cell_type": "markdown",
   "metadata": {
    "slideshow": {
     "slide_type": "slide"
    }
   },
   "source": [
    "## Submitting Assignments on GitHub Classroom\n",
    "\n",
    "1. Accept the invitation to each assignment\n",
    "* Make changes directly in files and/or create new files (Jupyter)\n",
    "* Upload or commit new and/or changed files to your branch\n",
    "* Wait for new commit from us for mark and comments\n",
    "\n",
    "Remember to give credit when borrowing code or solutions!"
   ]
  },
  {
   "cell_type": "markdown",
   "metadata": {
    "slideshow": {
     "slide_type": "slide"
    }
   },
   "source": [
    "## Debug Exercises\n",
    "\n",
    "* Fork the repo lectures2020\n",
    "* Clone or download the forked repo in your computer\n",
    "* Use Anaconda to open Week1\\DebugExercise.ipynb "
   ]
  },
  {
   "cell_type": "code",
   "execution_count": 3,
   "metadata": {
    "slideshow": {
     "slide_type": "fragment"
    }
   },
   "outputs": [
    {
     "ename": "AttributeError",
     "evalue": "'list' object has no attribute 'Sort'",
     "output_type": "error",
     "traceback": [
      "\u001b[1;31m---------------------------------------------------------------------------\u001b[0m",
      "\u001b[1;31mAttributeError\u001b[0m                            Traceback (most recent call last)",
      "\u001b[1;32m<ipython-input-3-d23ea398da48>\u001b[0m in \u001b[0;36m<module>\u001b[1;34m\u001b[0m\n\u001b[0;32m      2\u001b[0m \u001b[0mShoppingList\u001b[0m\u001b[1;33m=\u001b[0m\u001b[1;33m[\u001b[0m\u001b[1;34m'apples'\u001b[0m\u001b[1;33m,\u001b[0m\u001b[1;34m'pears'\u001b[0m\u001b[1;33m,\u001b[0m\u001b[1;34m'bananas'\u001b[0m\u001b[1;33m]\u001b[0m\u001b[1;33m\u001b[0m\u001b[1;33m\u001b[0m\u001b[0m\n\u001b[0;32m      3\u001b[0m \u001b[1;31m#set_trace()\u001b[0m\u001b[1;33m\u001b[0m\u001b[1;33m\u001b[0m\u001b[1;33m\u001b[0m\u001b[0m\n\u001b[1;32m----> 4\u001b[1;33m \u001b[0mShoppingList\u001b[0m\u001b[1;33m.\u001b[0m\u001b[0mSort\u001b[0m\u001b[1;33m(\u001b[0m\u001b[1;33m)\u001b[0m\u001b[1;33m\u001b[0m\u001b[1;33m\u001b[0m\u001b[0m\n\u001b[0m\u001b[0;32m      5\u001b[0m \u001b[0mprint\u001b[0m\u001b[1;33m(\u001b[0m\u001b[0mShoppingList\u001b[0m\u001b[1;33m)\u001b[0m\u001b[1;33m\u001b[0m\u001b[1;33m\u001b[0m\u001b[0m\n",
      "\u001b[1;31mAttributeError\u001b[0m: 'list' object has no attribute 'Sort'"
     ]
    }
   ],
   "source": [
    "#from IPython.core.debugger import set_trace\n",
    "ShoppingList=['apples','pears','bananas']\n",
    "#set_trace()\n",
    "ShoppingList.Sort()\n",
    "print(ShoppingList)"
   ]
  },
  {
   "cell_type": "markdown",
   "metadata": {
    "slideshow": {
     "slide_type": "fragment"
    }
   },
   "source": [
    "* Fix the bug\n",
    "* Upload it to your forked repo\n",
    "* Send a pull request"
   ]
  },
  {
   "cell_type": "markdown",
   "metadata": {
    "slideshow": {
     "slide_type": "slide"
    }
   },
   "source": [
    "## Week 1 Assignment\n",
    "\n",
    "* Setting up Anaconda and GitHub\n",
    "* Editing a page, and submitting a pull request\n",
    "* Setting up a personal web page on GitHub\n",
    "* Editing a file using Jupyter, and submitting on GitHub Classroom"
   ]
  }
 ],
 "metadata": {
  "celltoolbar": "Slideshow",
  "kernelspec": {
   "display_name": "Python 3",
   "language": "python",
   "name": "python3"
  },
  "language_info": {
   "codemirror_mode": {
    "name": "ipython",
    "version": 3
   },
   "file_extension": ".py",
   "mimetype": "text/x-python",
   "name": "python",
   "nbconvert_exporter": "python",
   "pygments_lexer": "ipython3",
   "version": "3.8.3"
  }
 },
 "nbformat": 4,
 "nbformat_minor": 2
}
