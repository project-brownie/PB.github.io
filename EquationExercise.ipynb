{
 "cells": [
  {
   "cell_type": "markdown",
   "metadata": {},
   "source": [
    "\\begin{eqnarray*}\n",
    "    0&=&\\exp(i\\pi)+1, \\\\\n",
    "    \\exp&=&\\sum_{k=0}^{+\\infty} \\frac{1}{k!}, \\\\\n",
    "    \\widehat{\\beta}&=&(X^\\top X)^{-1} X^\\top Y, \\\\\n",
    "    \\hbox{sgn}(x)&=&\\left\\{\\begin{array}{ll}\n",
    "        -1, & \\hbox{if}~x<0, \\\\\n",
    "        0, & \\hbox{if}~x=0, \\\\\n",
    "        1, & \\hbox{if}~x>0\n",
    "    \\end{array}\n",
    "    \\right.\n",
    "\\end{eqnarray*}"
   ]
  },
  {
   "cell_type": "code",
   "execution_count": null,
   "metadata": {},
   "outputs": [],
   "source": []
  }
 ],
 "metadata": {
  "kernelspec": {
   "display_name": "Python 3",
   "language": "python",
   "name": "python3"
  },
  "language_info": {
   "codemirror_mode": {
    "name": "ipython",
    "version": 3
   },
   "file_extension": ".py",
   "mimetype": "text/x-python",
   "name": "python",
   "nbconvert_exporter": "python",
   "pygments_lexer": "ipython3",
   "version": "3.8.3"
  }
 },
 "nbformat": 4,
 "nbformat_minor": 2
}
