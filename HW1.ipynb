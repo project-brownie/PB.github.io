{
 "cells": [
  {
   "cell_type": "markdown",
   "metadata": {},
   "source": [
    "# ST445-HW1"
   ]
  },
  {
   "cell_type": "markdown",
   "metadata": {},
   "source": [
    "## Q1 (DONE)"
   ]
  },
  {
   "cell_type": "markdown",
   "metadata": {},
   "source": [
    "1.  Get started with GitHub.\n",
    "\n",
    "    * Set up an account on GitHub, if you have not already done so.\n",
    "\n",
    "    * Send us your GitHub account name, if you have not already done so.\n",
    "\n",
    "   "
   ]
  },
  {
   "cell_type": "code",
   "execution_count": null,
   "metadata": {},
   "outputs": [],
   "source": []
  },
  {
   "cell_type": "markdown",
   "metadata": {},
   "source": [
    "## Q2 (DONE)"
   ]
  },
  {
   "cell_type": "code",
   "execution_count": null,
   "metadata": {},
   "outputs": [],
   "source": []
  },
  {
   "cell_type": "code",
   "execution_count": null,
   "metadata": {},
   "outputs": [],
   "source": []
  },
  {
   "cell_type": "markdown",
   "metadata": {},
   "source": [
    "2.   Install Anaconda, so that you can run Jupyter notebooks on your local client."
   ]
  },
  {
   "cell_type": "markdown",
   "metadata": {},
   "source": [
    "## Q3(DONE)"
   ]
  },
  {
   "cell_type": "markdown",
   "metadata": {},
   "source": [
    "3.  Clone the lectures repository.\n",
    "\n",
    "    You can \"clone\" repository, using the buttons found to the right side of your browser window as you view this repository. You can also use command line git to do this, or use a GUI client for git."
   ]
  },
  {
   "cell_type": "markdown",
   "metadata": {},
   "source": [
    "## Q4(DONE)\n",
    "4.  Practice the class workflow.\n",
    "\n",
    "    *  Access the GitHub Classroom for assignment 1 through the link provided during the class.\n",
    "    \n",
    "       Click on \"accept this assignment\" to set up the repository for this part of the assignment.  \n",
    "\n",
    "    *   Try to get the Notebook DebugExercise.ipynb working and submit your code. \n"
   ]
  },
  {
   "cell_type": "code",
   "execution_count": 4,
   "metadata": {},
   "outputs": [
    {
     "name": "stdout",
     "output_type": "stream",
     "text": [
      "['apples', 'bananas', 'pears']\n"
     ]
    }
   ],
   "source": [
    "#from IPython.core.debugger import set_trace\n",
    "ShoppingList=['apples','pears','bananas']\n",
    "#set_trace()\n",
    "ShoppingList.sort() # The function sort should not be capitalized\n",
    "print(ShoppingList)"
   ]
  },
  {
   "cell_type": "markdown",
   "metadata": {},
   "source": [
    "## Q5\n",
    "5.  Optional. Create a personal web page.\n",
    "\n",
    "    Clone a website repository, modify it, and publish a personal webpage.  Follow the steps described in:\n",
    "\n",
    "    Jim McGlone, \"[Creating and Hosting a Personal Site on GitHub:\n",
    "     A step-by-step beginner's guide to creating a personal website and blog using Jekyll and hosting it for free using GitHub Pages.](http://jmcglone.com/guides/github-pages/)\".\n"
   ]
  },
  {
   "cell_type": "markdown",
   "metadata": {},
   "source": []
  },
  {
   "cell_type": "code",
   "execution_count": null,
   "metadata": {},
   "outputs": [],
   "source": []
  },
  {
   "cell_type": "code",
   "execution_count": null,
   "metadata": {},
   "outputs": [],
   "source": []
  },
  {
   "cell_type": "code",
   "execution_count": null,
   "metadata": {},
   "outputs": [],
   "source": []
  }
 ],
 "metadata": {
  "kernelspec": {
   "display_name": "Python 3",
   "language": "python",
   "name": "python3"
  },
  "language_info": {
   "codemirror_mode": {
    "name": "ipython",
    "version": 3
   },
   "file_extension": ".py",
   "mimetype": "text/x-python",
   "name": "python",
   "nbconvert_exporter": "python",
   "pygments_lexer": "ipython3",
   "version": "3.8.3"
  }
 },
 "nbformat": 4,
 "nbformat_minor": 2
}
