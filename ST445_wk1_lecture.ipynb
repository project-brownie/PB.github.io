{
 "cells": [
  {
   "cell_type": "markdown",
   "metadata": {
    "slideshow": {
     "slide_type": "slide"
    }
   },
   "source": [
    "### ST445 Managing and Visualizing Data\n",
    "\n",
    "# Introduction to Data\n",
    "\n",
    "### Week 1 Lecture, MT 2020 - Chengchun Shi"
   ]
  },
  {
   "cell_type": "markdown",
   "metadata": {
    "slideshow": {
     "slide_type": "slide"
    }
   },
   "source": [
    "# What is Data?\n",
    "\n",
    "\n",
    " \"Data is a set of values of subjects with respect to qualitative or quantitative variables. \" -– Wikipedia\n",
    "\n",
    "-----------------------------\n"
   ]
  },
  {
   "cell_type": "markdown",
   "metadata": {
    "slideshow": {
     "slide_type": "fragment"
    }
   },
   "source": [
    "\n",
    "summarized in the form of \n",
    "\n",
    "* vector or matrix\n",
    "* tensor (high-order matrix)\n",
    "* image, or text"
   ]
  },
  {
   "cell_type": "markdown",
   "metadata": {
    "slideshow": {
     "slide_type": "slide"
    }
   },
   "source": [
    "# Data vs Information\n",
    "\n",
    "### Data\n",
    "\n",
    "* raw, unorganized facts that need to be processed\n",
    "* unusable until it is organized\n",
    "\n",
    "### Information\n",
    "\n",
    "* created when data is processed, organized, structured\n",
    "* needs to be situated in an appropriate _context_ in order to become useful\n",
    "\n",
    "<!--There are important differences in how humans and computers treat data as information-->\n",
    "\n"
   ]
  },
  {
   "cell_type": "markdown",
   "metadata": {
    "slideshow": {
     "slide_type": "slide"
    }
   },
   "source": [
    "# Information Theory\n",
    "\n",
    "The information content of a message depends on its probability:\n",
    "\n",
    "$$ I(x)=-\\log_2 p(x)$$\n",
    "\n",
    "* Two independent events with $p(x,y)=p(x)p(y)$ will have information $I(x,y)=I(x)+I(y)$\n",
    "\n",
    "    which is the sum of the information of the individual events.\n",
    "    \n",
    "\n",
    "* In transmitting a message modelled as a random variable the average amount of information received is: \n",
    "\n",
    "\n",
    "$$ H[X]=-\\sum_{x}p(x)\\log_2 p(x)=\\sum_{x}p(x)I(x) $$\n",
    "\n",
    "* The quantity H[X] is called *entropy*.\n",
    "\n",
    "* A measure of information in a single random variable."
   ]
  },
  {
   "cell_type": "markdown",
   "metadata": {
    "slideshow": {
     "slide_type": "slide"
    }
   },
   "source": [
    "# Information Theory\n",
    "\n",
    "* Joint entropy:\n",
    "\n",
    "$$ H(X,Y)=-\\sum_{x,y}p(x,y)\\log_2 p(x,y) $$\n",
    "\n",
    "* Conditional entropy:\n",
    "\n",
    "$$ H(X|Y)=-\\sum_{x,y}p(x,y)\\log_2 p(x|y)=H(X,Y)-H(Y) $$\n",
    "\n",
    "* Mutual information: \n",
    "\n",
    "$$ I(X|Y)=H(X)-H(X|Y)=H(X)+H(Y)-H(X|Y) $$\n",
    "* Equals zero when $X$ and $Y$ are independent.\n",
    "\n",
    "* Expect to see more on probabilstic models later in the course!"
   ]
  },
  {
   "cell_type": "markdown",
   "metadata": {
    "slideshow": {
     "slide_type": "slide"
    }
   },
   "source": [
    "# Visualising Distributions \n",
    "\n",
    "\n",
    "This is not a statistics course but the powerful tools to visualise distributions can helpyou understand your data.\n",
    "\n",
    "<img src=\"figs/DistributionHistogram.png\" width=\"600\">\n",
    "\n",
    "See the code for this plot on Page 281 of \"Python for Data Science\" by Wes McKinney"
   ]
  },
  {
   "cell_type": "markdown",
   "metadata": {
    "slideshow": {
     "slide_type": "slide"
    }
   },
   "source": [
    "# Simplest can be best...\n",
    "\n",
    "use **matplotlib.pyplot.pie**\n",
    "\n",
    "![Pie Chart](figs/pie_demo_features.png \"Pie Chart\")\n",
    "\n",
    "Taken from https://matplotlib.org/gallery/index.html"
   ]
  },
  {
   "cell_type": "markdown",
   "metadata": {
    "slideshow": {
     "slide_type": "slide"
    }
   },
   "source": [
    "# Exploring Data Visually\n",
    "\n",
    "Combines scatter plots and histograms. Data is from the Boston Housing dataset available from scikit-learn. Use **pandas.scatter_matrix**\n",
    "\n",
    "<img src=\"figs/boston-housing-pairplot.png\" width=\"500\">"
   ]
  },
  {
   "cell_type": "markdown",
   "metadata": {
    "slideshow": {
     "slide_type": "slide"
    }
   },
   "source": [
    "# As a data scientist\n",
    "\n",
    "* Most (approximately 70%) time in data science is spent on cleaning and organsising data\n",
    "\n",
    "\n",
    "* Collecting data sets can also be time consuming\n",
    "\n",
    "\n",
    "* Little time is spent refining algorithms\n",
    "\n",
    "\n",
    "* The tools and techniques you will learn in the following two lectures on NumPy and Pandas are\n",
    "\n",
    "    well adapted for data cleaning (and many other tasks).\n",
    "    \n",
    "--------------\n",
    "\n",
    "\n",
    "Next slide shows struggle to obtain good data. "
   ]
  },
  {
   "cell_type": "markdown",
   "metadata": {
    "slideshow": {
     "slide_type": "slide"
    }
   },
   "source": [
    "# Common Data Quality Issues\n",
    "\n",
    "\n",
    "* Missing data is a common problem. A good solution is to build a simple model to estimate the missing values. Pandas has good tools for this.\n",
    "\n",
    "    * Sequenced Treatment Alternatives to Relieve Depression (STAR\\*D) data: 17% obs. are missing.\n",
    "    \n",
    "    * The schizophrenia study: over 50% obs. are missing.\n",
    "    \n",
    "    * The Nefazodone-CBASP clinical trial study: 5% obs. are missing.\n",
    "\n",
    "\n",
    "* Duplicate data is another common problem. Again Pandas has tools for this.\n",
    "\n",
    "\n",
    "* Incorrect values in the dataset. \n",
    "\n",
    "\n",
    "* In engineering methods have been developed for correcting measurements where there are networks of sensors, some of which may have failed. This is often called _Data validation and reconciliation_  \n"
   ]
  },
  {
   "cell_type": "markdown",
   "metadata": {
    "slideshow": {
     "slide_type": "slide"
    }
   },
   "source": [
    "# Missing data\n",
    "\n",
    "<img src=\"figs/trump.jpg\" width=\"600\">\n",
    "\n",
    "Taken from https://www.cnbc.com/2016/02/21/is-trump-vs-hillary-inevitable.html"
   ]
  },
  {
   "cell_type": "markdown",
   "metadata": {
    "slideshow": {
     "slide_type": "slide"
    }
   },
   "source": [
    "<img src=\"figs/1400x-1.jpg\" width=\"600\">\n",
    "\n",
    "Taken from https://www.bloomberg.com/features/2019-trump-or-biden-quotes-quiz/"
   ]
  },
  {
   "cell_type": "markdown",
   "metadata": {
    "slideshow": {
     "slide_type": "slide"
    }
   },
   "source": [
    "# Changes in the world of data\n",
    "\n",
    "\n",
    "* high-dimensional data ($p\\gg n$), e.g., genetic data (dimension reduction, penalized regression, random projection)\n",
    "\n",
    "\n",
    "* functional data, e.g., time series, images (functional principle component analysis, deep learning)\n",
    "\n",
    "\n",
    "\n",
    "* big data/massive data (subsampling, divide and conquer, parallel computing)\n",
    "    - volume of data in the modern world: 90% of the world's data [generated in the last _two years_](https://www.sciencedaily.com/releases/2013/05/130522085217.htm)\n",
    "    - an that was in 2013"
   ]
  },
  {
   "cell_type": "markdown",
   "metadata": {
    "slideshow": {
     "slide_type": "slide"
    }
   },
   "source": [
    "# Examples of big data\n",
    "\n",
    "<img src=\"figs/yahoo.JPG\" width=\"500\">\n",
    "\n",
    "\n",
    "* Yahoo! Front Page Today Module User Click Log Dataset, version 1.0 (1.1 GB).\n",
    "\n",
    "\n",
    "* contains a fraction of user click log for news articles displayed in the Featured Tab of the Today Module on Yahoo! Front Page during the first ten days in May 2009.\n",
    "\n",
    "\n",
    "\n",
    "* a total of 45,811,883 user visits to the Today Module."
   ]
  },
  {
   "cell_type": "markdown",
   "metadata": {
    "slideshow": {
     "slide_type": "slide"
    }
   },
   "source": [
    "# Clever algorithms are very important...\n",
    "\n",
    "\n",
    "\n",
    "* The Apollo landing relied on algorithmic developments such as the Kalman Filter to process noisy data from multiple sensors. \n",
    "\n",
    "\n",
    "* Big Data has been powered by algorithms such as Google's PageRank"
   ]
  },
  {
   "cell_type": "markdown",
   "metadata": {
    "slideshow": {
     "slide_type": "slide"
    }
   },
   "source": [
    "# Examples of small data\n",
    "\n",
    "\n",
    "* Sequenced Treatment Alternatives to Relieve Depression (STAR\\*D) data: 383 obs.\n",
    "    \n",
    "\n",
    "\n",
    "* The schizophrenia study: 165 obs.\n",
    "    \n",
    "\n",
    "\n",
    "* The Nefazodone-CBASP clinical trial study: 681 obs. \n",
    "\n",
    "\n",
    "\n",
    "* ACTG 175 study: 2139 obs.\n",
    "\n",
    "\n",
    "\n",
    "* A Data from the InternationalWarfarin Pharmacogenetics Consortium: 3848 obs.\n"
   ]
  },
  {
   "cell_type": "markdown",
   "metadata": {
    "slideshow": {
     "slide_type": "slide"
    }
   },
   "source": [
    "# Basic units of data\n",
    "\n",
    "* Bits\n",
    "   - smallest unit of storage, a 0 or 1\n",
    "   - with $n$ bits, can store $2^n$ patterns - so one byte can store 256 patterns\n"
   ]
  },
  {
   "cell_type": "markdown",
   "metadata": {
    "slideshow": {
     "slide_type": "slide"
    }
   },
   "source": [
    "* Bytes\n",
    "   - eight _bits_ = one _byte_\n",
    "   - ASCII (American Standard Code for Information Interchange) - represented characters, such as `A` represented as 65\n",
    "   \n",
    "  ![ASCII](figs/ASCII.png)"
   ]
  },
  {
   "cell_type": "markdown",
   "metadata": {
    "slideshow": {
     "slide_type": "slide"
    }
   },
   "source": [
    "### multi-byte units\n",
    "\n",
    "| unit     | abbreviation | total bytes  | nearest decimal equivalent |\n",
    "|:--------:|:------------:|-------------:|---------------------------:|\n",
    "| kilobyte |     KB       | 1,024^1      |             1000^1         |\n",
    "| megabyte |     MB       | 1,024^2      |             1000^2         |\n",
    "| gigabyte |     GB       | 1,024^3      |             1000^3         |\n",
    "| terabyte |     TB       | 1,024^4      |             1000^4         |\n",
    "| petabyte |     PB       | 1,024^5      |             1000^5         |\n",
    "| exabyte  |     EB       | 1,024^6      |             1000^6         |\n",
    "| zettabyte|     ZB       | 1,024^7      |             1000^7         |\n",
    "| yottabyte|     YB       | 1,024^8      |             1000^8         |\n",
    "\n",
    "* this is why 1GB is greater than 1 billion bytes"
   ]
  },
  {
   "cell_type": "markdown",
   "metadata": {
    "slideshow": {
     "slide_type": "slide"
    }
   },
   "source": [
    "# Programming language popularity: TIOBE index\n",
    "\n",
    "\n",
    "<img src=\"figs/PL.png\" width=\"700\"> \n",
    "\n",
    "\n",
    "Taken from https://towardsdatascience.com/visualize-programming-language-popularity-using-tiobeindexpy-f82c5a96400d"
   ]
  },
  {
   "cell_type": "markdown",
   "metadata": {
    "slideshow": {
     "slide_type": "slide"
    }
   },
   "source": [
    "# Programming language popularity\n",
    "\n",
    "\n",
    "<img src=\"figs/stackoverflow.png\" width=\"600\"> \n",
    "\n",
    "\n",
    "Taken from https://hackernoon.com/top-3-most-popular-programming-languages-in-2018-and-their-annual-salaries-51b4a7354e06"
   ]
  },
  {
   "cell_type": "markdown",
   "metadata": {
    "slideshow": {
     "slide_type": "slide"
    }
   },
   "source": [
    "# Open Source Software\n",
    "\n",
    "\n",
    "* Free computer software which the user can modify and distribute within the terms of a licence  \n",
    "\n",
    "\n",
    "* https://www.python.org/download/releases/3.3.5/license/\n",
    "\n",
    "\n",
    "* Collaborative development has created diverse and very powerful software ecosystems\n",
    "\n",
    "\n",
    "* Both major data science languages - Python and R are Open-source\n",
    "\n",
    "\n",
    "* Python files are saved with the .py extension. These files on their own are called modules.\n",
    "\n",
    "\n",
    "* Modular structure permits users to build an environment exactly suited to their needs."
   ]
  },
  {
   "cell_type": "markdown",
   "metadata": {
    "slideshow": {
     "slide_type": "slide"
    }
   },
   "source": [
    "### In Python Everything is an Object\n",
    "\n",
    "* objects have _classes_, meaning they represent a \"type\" of object,for example *string* or *function*\n",
    "\n",
    "\n",
    "* _attributes_ are features of objects or variables in a class\n",
    "\n",
    "\n",
    "* _methods_  are functions"
   ]
  },
  {
   "cell_type": "markdown",
   "metadata": {
    "slideshow": {
     "slide_type": "slide"
    }
   },
   "source": [
    "# Data types: Generically\n",
    "\n",
    "* objects are _bound_ to an identifier, e.g."
   ]
  },
  {
   "cell_type": "code",
   "execution_count": 7,
   "metadata": {
    "slideshow": {
     "slide_type": "fragment"
    }
   },
   "outputs": [
    {
     "name": "stdout",
     "output_type": "stream",
     "text": [
      "98.6\n",
      "92603568\n"
     ]
    }
   ],
   "source": [
    "temperature = 98.6\n",
    "print(temperature)\n",
    "print(id(temperature))"
   ]
  },
  {
   "cell_type": "markdown",
   "metadata": {
    "slideshow": {
     "slide_type": "fragment"
    }
   },
   "source": [
    "* here, `temperature` is a variable name assigned to the literal floating-point object with the value of 98.6\n",
    "* in Python, this is an instance of the **float** class\n",
    "* function `id` returns the identity of an object"
   ]
  },
  {
   "cell_type": "code",
   "execution_count": 6,
   "metadata": {
    "slideshow": {
     "slide_type": "slide"
    }
   },
   "outputs": [
    {
     "name": "stdout",
     "output_type": "stream",
     "text": [
      "92603616\n",
      "False\n",
      "True\n"
     ]
    }
   ],
   "source": [
    "temperature1 = 98.6\n",
    "print(temperature1 is temperature)\n",
    "print(temperature1 == temperature)"
   ]
  },
  {
   "cell_type": "markdown",
   "metadata": {
    "slideshow": {
     "slide_type": "fragment"
    }
   },
   "source": [
    "* variable names in R and Python are _case-sensitive_\n",
    "* some variable names are typically reserved, e.g.\n",
    "    ```Python\n",
    "    False, True, None, or, and  # Python\n",
    "    FALSE, TRUE, NA, NAN        # R\n",
    "    ```"
   ]
  },
  {
   "cell_type": "markdown",
   "metadata": {
    "slideshow": {
     "slide_type": "slide"
    }
   },
   "source": [
    "* All programming languages use comments, for humans to read\n",
    "    - this is anything that follows the `#` character in both Python and R\n",
    "\n",
    "> \"Let us change our traditional attitude to the construction of programs: Instead of imagining that our main task is to instruct a computer what to do, let us concentrate rather on explaining to human beings what we want a computer to do.\"  -- Donald Knuth, _Literate Programming_ (1984)"
   ]
  },
  {
   "cell_type": "markdown",
   "metadata": {
    "slideshow": {
     "slide_type": "fragment"
    }
   },
   "source": [
    "* \"immutable\" objects cannot be subsequently changed\n",
    "    \n",
    "| **Python class** | **Immutable** | **Description**                   |  **R class** |\n",
    "|:-----------------|:-------------:|:----------------------------------|:------------:|\n",
    "| bool             |      Yes      | Boolean value                     |    logical   |\n",
    "| int              |      Yes      | integer number                    |    integer   |\n",
    "| float            |      Yes      | floating-point number             |    numeric   |\n",
    "| list             |       No      | mutable sequence of objects       |     list     |\n",
    "| tuple            |      Yes      | immutable sequence of objects     |       -      |\n",
    "| str              |      Yes      | character string                  |   character  |\n",
    "| set              |       No      | unordered set of distinct objects |       -      |\n",
    "| NumPy array      |       No      | mutable array                     |       -      |\n",
    "| dict             |       No      | dictionary                        | (named) list |"
   ]
  },
  {
   "cell_type": "markdown",
   "metadata": {
    "slideshow": {
     "slide_type": "slide"
    }
   },
   "source": [
    "### (indexing data cont.)\n",
    "\n",
    "* index from 0 or from 1?\n",
    "\n",
    "   - where an index begins counting, when addressing elements of a data object\n",
    "   - [most languages index from 0](https://en.wikipedia.org/wiki/Comparison_of_programming_languages_%28array%29#Array_system_cross-reference_list)\n",
    "   - human ages - do they index from 0?"
   ]
  },
  {
   "cell_type": "code",
   "execution_count": 23,
   "metadata": {
    "slideshow": {
     "slide_type": "fragment"
    }
   },
   "outputs": [
    {
     "data": {
      "text/plain": [
       "'Hello'"
      ]
     },
     "execution_count": 23,
     "metadata": {},
     "output_type": "execute_result"
    }
   ],
   "source": [
    "string_example = 'Hello World'\n",
    "string_example[0:5]"
   ]
  },
  {
   "cell_type": "markdown",
   "metadata": {
    "slideshow": {
     "slide_type": "fragment"
    }
   },
   "source": [
    "\n",
    "* Python indexes from 0<pre>         <pre>Be warned!\n"
   ]
  },
  {
   "cell_type": "markdown",
   "metadata": {
    "slideshow": {
     "slide_type": "slide"
    }
   },
   "source": [
    "# git\n",
    "\n",
    "* `git`: a version control system\n",
    "* Allows for complete history of changes, branching, staging areas, and flexible and distributed workflows\n",
    "* simplified workflow (from [Anita Cheng's excellent blog post](http://anitacheng.com/git-for-non-developers))\n",
    "\n",
    "   <img src=\"figs/git.jpg\" width=\"400\"> "
   ]
  },
  {
   "cell_type": "markdown",
   "metadata": {
    "slideshow": {
     "slide_type": "slide"
    }
   },
   "source": [
    "# GitHub\n",
    "\n",
    "* a website and hosting platform for git repositories"
   ]
  },
  {
   "cell_type": "markdown",
   "metadata": {
    "slideshow": {
     "slide_type": "fragment"
    }
   },
   "source": [
    "* [GitHub classroom](https://classroom.github.com)\n",
    "* Free stuff for students! https://education.github.com/pack\n"
   ]
  },
  {
   "cell_type": "markdown",
   "metadata": {
    "slideshow": {
     "slide_type": "slide"
    }
   },
   "source": [
    "# More great resources for using git/GitHub\n",
    "\n",
    "* [An easy git Cheatsheet](http://rogerdudler.github.io/git-guide/files/git_cheat_sheet.pdf), by Nina Jaeschke and Roger Dudler \n",
    "* [git - the simple guide](http://rogerdudler.github.io/git-guide/) by Roger Dudler"
   ]
  },
  {
   "cell_type": "markdown",
   "metadata": {
    "slideshow": {
     "slide_type": "slide"
    }
   },
   "source": [
    "# git Example\n",
    "\n",
    "### Fixing a broken Python Jupyter notebook\n",
    "\n",
    "This Jupyter notebook needs de-bugging:\n",
    "\n",
    "https://github.com/lse-st445/lectures/week01/DebugExercise.ipynb\n"
   ]
  },
  {
   "cell_type": "markdown",
   "metadata": {
    "slideshow": {
     "slide_type": "fragment"
    }
   },
   "source": [
    "### How to fix it:\n",
    "* clone the repository\n",
    "* edit the file\n",
    "* stage the changes\n",
    "* commit the changes\n",
    "* issue a \"pull request\""
   ]
  },
  {
   "cell_type": "markdown",
   "metadata": {
    "slideshow": {
     "slide_type": "slide"
    }
   },
   "source": [
    "# Markdown (and other markup languages)\n",
    "\n",
    "* Idea of a \"markup\" language: HTML, XML, LaTeX\n",
    "* \"Markdown\"\n",
    "    - Created by John Gruber as a simple way for non-programming types to write in an easy-to-read format that could be converted directly into HTML\n",
    "    - No opening or closing tags\n",
    "    - Plain text, and can be read when not rendered\n",
    "* Markdown has [many \"flavours\"](https://github.com/commonmark/CommonMark/wiki/Markdown-Flavors)"
   ]
  },
  {
   "cell_type": "markdown",
   "metadata": {
    "slideshow": {
     "slide_type": "slide"
    }
   },
   "source": [
    "# Markdown example\n",
    "\n",
    "This is a markdown example.\n",
    "* bullet list 1\n",
    "* bullet list 2\n",
    "\n",
    "> \"[I love deadlines. I like the whooshing sound they make as they fly by.](https://www.brainyquote.com/quotes/quotes/d/douglasada134151.html?src=t_funny)\"  \n",
    "-- _Douglas Adams_"
   ]
  },
  {
   "cell_type": "markdown",
   "metadata": {
    "slideshow": {
     "slide_type": "fragment"
    }
   },
   "source": [
    "----\n",
    "```\n",
    "# Markdown example\n",
    "\n",
    "This is a markdown example\n",
    "* bullet list 1\n",
    "* bullet list 2\n",
    "\n",
    "> \"[I love deadlines. I like the whooshing sound they make as they fly by.](https://www.brainyquote.com/quotes/quotes/d/douglasada134151.html?src=t_funny)\"  \n",
    "-- _Douglas Adams_\n",
    "```\n"
   ]
  },
  {
   "cell_type": "markdown",
   "metadata": {
    "slideshow": {
     "slide_type": "notes"
    }
   },
   "source": [
    "A good reference for Markdown: https://ia.net/writer/support/general/markdown-guide/.\n",
    "\n",
    "and also: https://github.com/adam-p/markdown-here/wiki/Markdown-Cheatsheet "
   ]
  },
  {
   "cell_type": "markdown",
   "metadata": {
    "slideshow": {
     "slide_type": "slide"
    }
   },
   "source": [
    "# Upcoming\n",
    "\n",
    "-------\n",
    "\n",
    "* **Lab**: Working with Jupyter and Github\n",
    "* **Next week**: Python and NumPy Data Structures"
   ]
  }
 ],
 "metadata": {
  "celltoolbar": "Slideshow",
  "kernelspec": {
   "display_name": "Python 3",
   "language": "python",
   "name": "python3"
  },
  "language_info": {
   "codemirror_mode": {
    "name": "ipython",
    "version": 3
   },
   "file_extension": ".py",
   "mimetype": "text/x-python",
   "name": "python",
   "nbconvert_exporter": "python",
   "pygments_lexer": "ipython3",
   "version": "3.8.3"
  }
 },
 "nbformat": 4,
 "nbformat_minor": 2
}
